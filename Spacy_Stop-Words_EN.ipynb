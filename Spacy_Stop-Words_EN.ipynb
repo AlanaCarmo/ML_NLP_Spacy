{
 "cells": [
  {
   "cell_type": "markdown",
   "metadata": {},
   "source": [
    "# Stop Words Inglês"
   ]
  },
  {
   "cell_type": "code",
   "execution_count": 1,
   "metadata": {},
   "outputs": [],
   "source": [
    "import spacy\n",
    "\n",
    "nlp = spacy.load('/home/alana/Documentos/NLP/UDEMY/en_core_web_sm-2.2.0/en_core_web_sm/en_core_web_sm-2.2.0')"
   ]
  },
  {
   "cell_type": "code",
   "execution_count": 2,
   "metadata": {},
   "outputs": [
    {
     "name": "stdout",
     "output_type": "stream",
     "text": [
      "{'either', 'her', 'beyond', 'seems', 'after', 'thru', 'whose', 'would', 'perhaps', 'fifty', 'off', 'give', 'first', 'have', 'from', 'anyway', 'though', 'down', 'formerly', 'many', 'really', 'i', 'they', 'via', 'also', 'back', 'becoming', 'and', 'ca', 'thus', 'a', 'hereupon', 'through', 'if', 'well', 'about', 'an', 'there', 'already', 'might', 'namely', 'per', 'does', 'ten', 'some', 'rather', 'such', 'using', 'whether', 'least', 'should', 'due', 'n‘t', \"n't\", 'are', 'my', 'often', 'too', 'ours', 'indeed', 'nor', 'quite', 'never', 'on', 'side', '’s', 'another', 'three', 're', 'without', 'show', 'enough', 'any', 'being', 'therein', 'same', 'much', 'over', 'hers', 'where', 'keep', 'made', 'becomes', 'but', 'somewhere', 'as', 'yourself', 'so', 'for', 'towards', 'doing', 'this', 'then', 'n’t', 'in', 'me', 'make', 'call', 'moreover', 'only', 'together', 'our', 'which', 'eight', 'afterwards', 'he', 'by', 'yours', 'can', 'nothing', '‘re', 'hundred', 'still', 'she', '’d', 'sometimes', '‘ll', 'part', 'to', 'before', 'when', 'herself', 'these', 'several', 'except', 'it', 'once', 'thereby', 'became', 'top', 'around', 'eleven', 'the', 'see', 'five', 'someone', 'less', 'below', '‘s', 'itself', 'must', 'until', 'while', 'us', 'among', 'than', 'or', 'under', '‘ve', 'front', 'toward', 'however', 'were', 'besides', 'of', '’ll', 'else', 'forty', 'those', 'just', 'put', 'no', 'has', 'none', 'further', 'did', 'why', 'how', '’re', 'former', 'you', 'say', 'sixty', '‘d', 'full', 'whence', 'sometime', 'nevertheless', 'what', 'thereafter', 'anyone', 'am', 'cannot', 'mostly', 'above', 'others', 'few', 'anyhow', 'whereby', 'yet', 'done', 'hereby', '’ve', 'whoever', 'ourselves', 'herein', 'move', 'meanwhile', 'could', 'across', 'whatever', 'whenever', 'get', 'twelve', 'amongst', 'go', 'beforehand', 'even', 'unless', 'its', 'various', 'nine', 'between', 'everyone', 'somehow', 'thence', 'become', 'whereafter', 'four', 'elsewhere', \"'s\", 'although', 'latterly', 'himself', 'here', 'whom', 'used', 'anywhere', 'whereupon', '’m', 'seemed', 'do', 'nowhere', 'bottom', 'their', 'take', 'been', \"'ve\", 'with', 'your', 'most', 'both', 'up', 'latter', 'thereupon', 'very', 'myself', 'now', 'one', 'please', 'two', 'is', 'at', 'his', 'onto', 'nobody', 'that', 'name', 'seeming', 'other', 'always', 'during', 'next', 'who', 'ever', 'empty', 'was', 'otherwise', 'not', \"'ll\", 'regarding', 'wherever', 'since', 'themselves', 'therefore', 'we', 'serious', 'fifteen', '‘m', 'hence', 'them', 'wherein', 'twenty', 'more', 'amount', 'may', 'mine', \"'d\", 'out', 'everything', 'everywhere', 'upon', 'hereafter', 'along', 'last', 'whole', 'yourselves', 'each', 'behind', 'seem', 'will', 'six', 'anything', \"'re\", 'all', 'whereas', 'every', 'whither', 'be', 'him', 'neither', 'again', 'into', 'third', \"'m\", 'something', 'almost', 'own', 'beside', 'because', 'against', 'alone', 'had', 'throughout', 'noone', 'within'}\n"
     ]
    }
   ],
   "source": [
    "print(nlp.Defaults.stop_words)"
   ]
  },
  {
   "cell_type": "code",
   "execution_count": 3,
   "metadata": {},
   "outputs": [
    {
     "data": {
      "text/plain": [
       "326"
      ]
     },
     "execution_count": 3,
     "metadata": {},
     "output_type": "execute_result"
    }
   ],
   "source": [
    "len(nlp.Defaults.stop_words)"
   ]
  },
  {
   "cell_type": "code",
   "execution_count": 4,
   "metadata": {},
   "outputs": [
    {
     "data": {
      "text/plain": [
       "True"
      ]
     },
     "execution_count": 4,
     "metadata": {},
     "output_type": "execute_result"
    }
   ],
   "source": [
    "nlp.vocab['myself'].is_stop"
   ]
  },
  {
   "cell_type": "code",
   "execution_count": 5,
   "metadata": {},
   "outputs": [
    {
     "data": {
      "text/plain": [
       "False"
      ]
     },
     "execution_count": 5,
     "metadata": {},
     "output_type": "execute_result"
    }
   ],
   "source": [
    "nlp.vocab['mystery'].is_stop"
   ]
  },
  {
   "cell_type": "markdown",
   "metadata": {},
   "source": [
    "## Adicionar stop word"
   ]
  },
  {
   "cell_type": "code",
   "execution_count": 4,
   "metadata": {},
   "outputs": [],
   "source": [
    "nlp.Defaults.stop_words.add('btw')\n",
    "\n",
    "nlp.vocab['btw'].is_stop = True"
   ]
  },
  {
   "cell_type": "code",
   "execution_count": 5,
   "metadata": {},
   "outputs": [
    {
     "data": {
      "text/plain": [
       "327"
      ]
     },
     "execution_count": 5,
     "metadata": {},
     "output_type": "execute_result"
    }
   ],
   "source": [
    "len(nlp.Defaults.stop_words)"
   ]
  },
  {
   "cell_type": "code",
   "execution_count": 6,
   "metadata": {},
   "outputs": [
    {
     "data": {
      "text/plain": [
       "True"
      ]
     },
     "execution_count": 6,
     "metadata": {},
     "output_type": "execute_result"
    }
   ],
   "source": [
    "nlp.vocab['btw'].is_stop"
   ]
  },
  {
   "cell_type": "markdown",
   "metadata": {},
   "source": [
    "<font color = green> Ao adicionar palavras de interrupção, sempre use letras minúsculas. Os léxico são convertidos em minúsculas antes de serem adicionados ao vocabulário. </font>"
   ]
  },
  {
   "cell_type": "markdown",
   "metadata": {},
   "source": [
    "## Remover s stop word"
   ]
  },
  {
   "cell_type": "code",
   "execution_count": 7,
   "metadata": {},
   "outputs": [],
   "source": [
    "nlp.Defaults.stop_words.remove('beyond')\n",
    "\n",
    "nlp.vocab['beyond'].is_stop = False"
   ]
  },
  {
   "cell_type": "code",
   "execution_count": 8,
   "metadata": {},
   "outputs": [
    {
     "data": {
      "text/plain": [
       "326"
      ]
     },
     "execution_count": 8,
     "metadata": {},
     "output_type": "execute_result"
    }
   ],
   "source": [
    "len(nlp.Defaults.stop_words)"
   ]
  },
  {
   "cell_type": "code",
   "execution_count": 9,
   "metadata": {},
   "outputs": [
    {
     "data": {
      "text/plain": [
       "False"
      ]
     },
     "execution_count": 9,
     "metadata": {},
     "output_type": "execute_result"
    }
   ],
   "source": [
    "nlp.vocab['beyond'].is_stop"
   ]
  }
 ],
 "metadata": {
  "kernelspec": {
   "display_name": "Python 3",
   "language": "python",
   "name": "python3"
  },
  "language_info": {
   "codemirror_mode": {
    "name": "ipython",
    "version": 3
   },
   "file_extension": ".py",
   "mimetype": "text/x-python",
   "name": "python",
   "nbconvert_exporter": "python",
   "pygments_lexer": "ipython3",
   "version": "3.7.4"
  }
 },
 "nbformat": 4,
 "nbformat_minor": 4
}
