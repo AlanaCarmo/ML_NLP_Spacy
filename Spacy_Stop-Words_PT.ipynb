{
 "cells": [
  {
   "cell_type": "markdown",
   "metadata": {},
   "source": [
    "# Stop Words Inglês"
   ]
  },
  {
   "cell_type": "code",
   "execution_count": 2,
   "metadata": {},
   "outputs": [],
   "source": [
    "import spacy\n",
    "\n",
    "nlp = spacy.load('/home/alana/Documentos/NLP/pt_core_news_sm-2.3.0/pt_core_news_sm/pt_core_news_sm-2.3.0')"
   ]
  },
  {
   "cell_type": "code",
   "execution_count": 3,
   "metadata": {},
   "outputs": [
    {
     "name": "stdout",
     "output_type": "stream",
     "text": [
      "{'local', 'nossas', 'tudo', 'favor', 'estás', 'adeus', 'desta', 'ademais', 'além', 'novas', 'são', 'enquanto', 'após', 'logo', 'coisa', 'estará', 'tivemos', 'isso', 'lado', 'você', 'quer', 'segunda', 'saber', 'estiveram', 'eventual', 'está', 'parte', 'embora', 'fazeis', 'tipo', 'sempre', 'tiveram', 'posição', 'minhas', 'porquê', 'dez', 'às', 'põe', 'nova', 'grandes', 'numa', 'zero', 'forma', 'tem', 'teus', 'vais', 'oitavo', 'vezes', 'área', 'pontos', 'da', 'depois', 'todos', 'és', 'apoio', 'custa', 'posso', 'mês', 'vai', 'oito', 'lugar', 'algo', 'ou', 'nós', 'cima', 'apoia', 'certeza', 'quê', 'cento', 'toda', 'daquela', 'geral', 'primeira', 'breve', 'vez', 'teu', 'máximo', 'nos', 'ter', 'teve', 'dezoito', 'tarde', 'vocês', 'das', 'dezassete', 'vossos', 'cinco', 'dão', 'nuns', 'aos', 'do', 'algumas', 'é', 'sexto', 'tua', 'usar', 'ali', 'através', 'tanta', 'minha', 'exemplo', 'corrente', 'sua', 'que', 'direita', 'cujo', 'foram', 'oitava', 'tive', 'uns', 'muito', 'vários', 'bem', 'nesta', 'entre', 'ela', 'tiveste', 'treze', 'for', 'obrigado', 'naquela', 'uma', 'atrás', 'nenhuma', 'quinto', 'era', 'fui', 'maioria', 'certamente', 'valor', 'quinta', 'meus', 'seria', 'esta', 'sétimo', 'poderá', 'sete', 'partir', 'ambos', 'seis', 'pois', 'podem', 'querem', 'essas', 'aí', 'este', 'esteve', 'sois', 'mais', 'parece', 'estes', 'outros', 'contudo', 'diante', 'ligado', 'um', 'deste', 'nem', 'meses', 'nossa', 'fazemos', 'estado', 'quarto', 'também', 'tens', 'quais', 'povo', 'bastante', 'próximo', 'de', 'tenho', 'novo', 'te', 'ponto', 'fazia', 'aquela', 'naquele', 'dizem', 'tempo', 'tendes', 'nesse', 'já', 'maior', 'pôde', 'fim', 'quando', 'aqueles', 'estiveste', 'falta', 'cuja', 'ir', 'estas', 'estão', 'fazer', 'onde', 'catorze', 'possível', 'quieta', 'vosso', 'irá', 'com', 'fora', 'disso', 'porque', 'tu', 'quinze', 'elas', 'dezanove', 'pode', 'faz', 'mesmo', 'só', 'esses', 'esse', 'conselho', 'próprio', 'não', 'nossos', 'foi', 'mil', 'nada', 'nessa', 'dois', 'devem', 'foste', 'fostes', 'em', 'final', 'sob', 'debaixo', 'aqui', 'como', 'iniciar', 'essa', 'meu', 'dezasseis', 'estivemos', 'sem', 'grupo', 'mal', 'isto', 'pelas', 'quanto', 'estar', 'num', 'vossas', 'comprida', 'maiorias', 'acerca', 'questão', 'qualquer', 'conhecido', 'tente', 'vos', 'fazes', 'terceira', 'tal', 'ser', 'inclusive', 'vós', 'menor', 'duas', 'têm', 'momento', 'sim', 'fazem', 'pegar', 'umas', 'demais', 'quero', 'quarta', 'nosso', 'estava', 'qual', 'tentar', 'pelo', 'agora', 'onze', 'cada', 'baixo', 'primeiro', 'possivelmente', 'ver', 'tivestes', 'somos', 'veja', 'tão', 'fez', 'tuas', 'nas', 'inicio', 'podia', 'tanto', 'puderam', 'vindo', 'muitos', 'pela', 'eu', 'deverá', 'estive', 'contra', 'ainda', 'até', 'alguns', 'dá', 'fará', 'cá', 'vossa', 'deve', 'à', 'neste', 'se', 'sabe', 'dos', 'longe', 'lá', 'suas', 'outras', 'vêm', 'ora', 'desse', 'segundo', 'sei', 'des', 'comprido', 'vão', 'vinte', 'os', 'vem', 'porém', 'talvez', 'novos', 'vens', 'me', 'aquele', 'sétima', 'eles', 'fomos', 'apenas', 'sexta', 'dessa', 'ao', 'tentei', 'diz', 'as', 'número', 'ambas', 'estivestes', 'dizer', 'nunca', 'números', 'por', 'próxima', 'temos', 'ontem', 'terceiro', 'na', 'porquanto', 'sou', 'faço', 'seus', 'assim', 'usa', 'apontar', 'três', 'quatro', 'estou', 'põem', 'lhe', 'nível', 'doze', 'grande', 'poder', 'mas', 'ele', 'obrigada', 'dar', 'todo', 'vinda', 'todas', 'pouco', 'sistema', 'relação', 'somente', 'meio', 'outra', 'quieto', 'desde', 'dentro', 'tentaram', 'portanto', 'pouca', 'para', 'daquele', 'sobre', 'bom', 'conhecida', 'antes', 'cedo', 'quem', 'caminho', 'então', 'no', 'seu', 'aquilo', 'menos', 'boa', 'pelos', 'tais', 'aquelas', 'último', 'perto', 'nove'}\n"
     ]
    }
   ],
   "source": [
    "print(nlp.Defaults.stop_words)"
   ]
  },
  {
   "cell_type": "code",
   "execution_count": 4,
   "metadata": {},
   "outputs": [
    {
     "data": {
      "text/plain": [
       "413"
      ]
     },
     "execution_count": 4,
     "metadata": {},
     "output_type": "execute_result"
    }
   ],
   "source": [
    "len(nlp.Defaults.stop_words)"
   ]
  },
  {
   "cell_type": "code",
   "execution_count": 6,
   "metadata": {},
   "outputs": [
    {
     "data": {
      "text/plain": [
       "True"
      ]
     },
     "execution_count": 6,
     "metadata": {},
     "output_type": "execute_result"
    }
   ],
   "source": [
    "nlp.vocab['para'].is_stop"
   ]
  },
  {
   "cell_type": "code",
   "execution_count": 7,
   "metadata": {},
   "outputs": [
    {
     "data": {
      "text/plain": [
       "False"
      ]
     },
     "execution_count": 7,
     "metadata": {},
     "output_type": "execute_result"
    }
   ],
   "source": [
    "nlp.vocab['amor'].is_stop"
   ]
  },
  {
   "cell_type": "markdown",
   "metadata": {},
   "source": [
    "## Adicionar stop word"
   ]
  },
  {
   "cell_type": "code",
   "execution_count": 8,
   "metadata": {},
   "outputs": [],
   "source": [
    "nlp.Defaults.stop_words.add('bolo')\n",
    "\n",
    "nlp.vocab['bolo'].is_stop = True"
   ]
  },
  {
   "cell_type": "code",
   "execution_count": 9,
   "metadata": {},
   "outputs": [
    {
     "data": {
      "text/plain": [
       "414"
      ]
     },
     "execution_count": 9,
     "metadata": {},
     "output_type": "execute_result"
    }
   ],
   "source": [
    "len(nlp.Defaults.stop_words)"
   ]
  },
  {
   "cell_type": "code",
   "execution_count": 11,
   "metadata": {},
   "outputs": [
    {
     "data": {
      "text/plain": [
       "True"
      ]
     },
     "execution_count": 11,
     "metadata": {},
     "output_type": "execute_result"
    }
   ],
   "source": [
    "nlp.vocab['bolo'].is_stop"
   ]
  },
  {
   "cell_type": "markdown",
   "metadata": {},
   "source": [
    "<font color = green> Ao adicionar palavras de interrupção, sempre use letras minúsculas. Os léxico são convertidos em minúsculas antes de serem adicionados ao vocabulário. </font>"
   ]
  },
  {
   "cell_type": "markdown",
   "metadata": {},
   "source": [
    "## Remover s stop word"
   ]
  },
  {
   "cell_type": "code",
   "execution_count": 12,
   "metadata": {},
   "outputs": [],
   "source": [
    "nlp.Defaults.stop_words.remove('bolo')\n",
    "\n",
    "nlp.vocab['bolo'].is_stop = False"
   ]
  },
  {
   "cell_type": "code",
   "execution_count": 13,
   "metadata": {},
   "outputs": [
    {
     "data": {
      "text/plain": [
       "413"
      ]
     },
     "execution_count": 13,
     "metadata": {},
     "output_type": "execute_result"
    }
   ],
   "source": [
    "len(nlp.Defaults.stop_words)"
   ]
  },
  {
   "cell_type": "code",
   "execution_count": 14,
   "metadata": {},
   "outputs": [
    {
     "data": {
      "text/plain": [
       "False"
      ]
     },
     "execution_count": 14,
     "metadata": {},
     "output_type": "execute_result"
    }
   ],
   "source": [
    "nlp.vocab['bolo'].is_stop"
   ]
  }
 ],
 "metadata": {
  "kernelspec": {
   "display_name": "Python 3",
   "language": "python",
   "name": "python3"
  },
  "language_info": {
   "codemirror_mode": {
    "name": "ipython",
    "version": 3
   },
   "file_extension": ".py",
   "mimetype": "text/x-python",
   "name": "python",
   "nbconvert_exporter": "python",
   "pygments_lexer": "ipython3",
   "version": "3.7.4"
  }
 },
 "nbformat": 4,
 "nbformat_minor": 4
}
